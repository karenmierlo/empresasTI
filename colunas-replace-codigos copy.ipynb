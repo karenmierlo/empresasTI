{
 "cells": [
  {
   "cell_type": "code",
   "execution_count": 181,
   "id": "ade3e4fb",
   "metadata": {},
   "outputs": [],
   "source": [
    "import pandas as pd\n",
    "\n",
    "url_or_file='https://docs.google.com/spreadsheets/d/e/2PACX-1vQrGR2RwQBQAbt3Mzu0UbgKMGSY1hxXtt8rV1fcLzrwjRy2KBDUaSOoT5EKt-j0t6cxZ0KIz-4O0ZVf/pub?gid=891049362&single=true&output=csv'\n",
    "\n",
    "dfok=pd.DataFrame()\n",
    "dfok.columns = [c.replace(' ', '_') for c in dfok.columns]\n",
    "dfok.columns = [c.replace('/', '_') for c in dfok.columns]\n",
    "\n",
    "dfok['Carimbo_de_data_hora']=''\n",
    "dfok['Answer']=''\n",
    "dfok['Question']=''\n",
    "dfok['Questionid']=''\n",
    "\n",
    "for i in range(1,14):\n",
    "    colunas=[0,i]\n",
    "    df = pd.read_csv(url_or_file, header=0,usecols=colunas)\n",
    "    pergunta=df.columns[1]    \n",
    "    df = df.rename(columns={ pergunta : 'Answer'})    \n",
    "    df['Question']=pergunta\n",
    "    df['Questionid']=i        \n",
    "    dfok = (pd.concat([dfok, df],ignore_index = True))\n",
    "    dfok['Carimbo_de_data_hora']= (pd.to_datetime(dfok['Carimbo_de_data_hora']))\n",
    "    dfok['Questionid']=(pd.to_numeric(dfok['Questionid']))\n",
    "\n",
    "len(dfok)\n",
    "\n",
    "#print(dfok[0:1100])\n",
    "\n",
    "# dfok1 = dfok[0:1085]\n",
    "inicio=(8*216)\n",
    "fim=(inicio+1)\n",
    "dfok1 = dfok[inicio:fim]"
   ]
  },
  {
   "cell_type": "code",
   "execution_count": 182,
   "id": "f8da164b",
   "metadata": {
    "scrolled": true
   },
   "outputs": [
    {
     "data": {
      "text/html": [
       "<div>\n",
       "<style scoped>\n",
       "    .dataframe tbody tr th:only-of-type {\n",
       "        vertical-align: middle;\n",
       "    }\n",
       "\n",
       "    .dataframe tbody tr th {\n",
       "        vertical-align: top;\n",
       "    }\n",
       "\n",
       "    .dataframe thead th {\n",
       "        text-align: right;\n",
       "    }\n",
       "</style>\n",
       "<table border=\"1\" class=\"dataframe\">\n",
       "  <thead>\n",
       "    <tr style=\"text-align: right;\">\n",
       "      <th></th>\n",
       "      <th>Carimbo_de_data_hora</th>\n",
       "      <th>Answer</th>\n",
       "      <th>Question</th>\n",
       "      <th>Questionid</th>\n",
       "    </tr>\n",
       "  </thead>\n",
       "  <tbody>\n",
       "    <tr>\n",
       "      <th>1728</th>\n",
       "      <td>2022-01-09 21:17:58</td>\n",
       "      <td>Ambev Tech, Capgemini, Warren</td>\n",
       "      <td>8) Das empresas âncoras do Programa Entra21 es...</td>\n",
       "      <td>8</td>\n",
       "    </tr>\n",
       "  </tbody>\n",
       "</table>\n",
       "</div>"
      ],
      "text/plain": [
       "     Carimbo_de_data_hora                         Answer  \\\n",
       "1728  2022-01-09 21:17:58  Ambev Tech, Capgemini, Warren   \n",
       "\n",
       "                                               Question  Questionid  \n",
       "1728  8) Das empresas âncoras do Programa Entra21 es...           8  "
      ]
     },
     "metadata": {},
     "output_type": "display_data"
    }
   ],
   "source": [
    "display(dfok1)"
   ]
  },
  {
   "cell_type": "code",
   "execution_count": 183,
   "id": "9333faeb",
   "metadata": {
    "scrolled": false
   },
   "outputs": [],
   "source": [
    "#lista=[1,2,3,4,5,6,7,8,9,10]\n",
    "lista=[1]\n",
    "dfok1.insert(1,'AnswerNum2',lista)\n"
   ]
  },
  {
   "cell_type": "code",
   "execution_count": 184,
   "id": "8d95c585",
   "metadata": {},
   "outputs": [
    {
     "data": {
      "text/html": [
       "<div>\n",
       "<style scoped>\n",
       "    .dataframe tbody tr th:only-of-type {\n",
       "        vertical-align: middle;\n",
       "    }\n",
       "\n",
       "    .dataframe tbody tr th {\n",
       "        vertical-align: top;\n",
       "    }\n",
       "\n",
       "    .dataframe thead th {\n",
       "        text-align: right;\n",
       "    }\n",
       "</style>\n",
       "<table border=\"1\" class=\"dataframe\">\n",
       "  <thead>\n",
       "    <tr style=\"text-align: right;\">\n",
       "      <th></th>\n",
       "      <th>Carimbo_de_data_hora</th>\n",
       "      <th>AnswerNum2</th>\n",
       "      <th>Answer</th>\n",
       "      <th>Question</th>\n",
       "      <th>Questionid</th>\n",
       "    </tr>\n",
       "  </thead>\n",
       "  <tbody>\n",
       "    <tr>\n",
       "      <th>1728</th>\n",
       "      <td>2022-01-09 21:17:58</td>\n",
       "      <td>1</td>\n",
       "      <td>Ambev Tech, Capgemini, Warren</td>\n",
       "      <td>8) Das empresas âncoras do Programa Entra21 es...</td>\n",
       "      <td>8</td>\n",
       "    </tr>\n",
       "  </tbody>\n",
       "</table>\n",
       "</div>"
      ],
      "text/plain": [
       "     Carimbo_de_data_hora  AnswerNum2                         Answer  \\\n",
       "1728  2022-01-09 21:17:58           1  Ambev Tech, Capgemini, Warren   \n",
       "\n",
       "                                               Question  Questionid  \n",
       "1728  8) Das empresas âncoras do Programa Entra21 es...           8  "
      ]
     },
     "metadata": {},
     "output_type": "display_data"
    }
   ],
   "source": [
    "\n",
    "display(dfok1)\n"
   ]
  },
  {
   "cell_type": "code",
   "execution_count": 185,
   "id": "fc4d1c74",
   "metadata": {},
   "outputs": [
    {
     "data": {
      "text/html": [
       "<div>\n",
       "<style scoped>\n",
       "    .dataframe tbody tr th:only-of-type {\n",
       "        vertical-align: middle;\n",
       "    }\n",
       "\n",
       "    .dataframe tbody tr th {\n",
       "        vertical-align: top;\n",
       "    }\n",
       "\n",
       "    .dataframe thead th {\n",
       "        text-align: right;\n",
       "    }\n",
       "</style>\n",
       "<table border=\"1\" class=\"dataframe\">\n",
       "  <thead>\n",
       "    <tr style=\"text-align: right;\">\n",
       "      <th></th>\n",
       "      <th>Carimbo_de_data_hora</th>\n",
       "      <th>AnswerNum2</th>\n",
       "      <th>Answer</th>\n",
       "      <th>Question</th>\n",
       "      <th>Questionid</th>\n",
       "    </tr>\n",
       "  </thead>\n",
       "  <tbody>\n",
       "    <tr>\n",
       "      <th>1728</th>\n",
       "      <td>2022-01-09 21:17:58</td>\n",
       "      <td>1</td>\n",
       "      <td>Ambev Tech, Capgemini, Warren</td>\n",
       "      <td>8) Das empresas âncoras do Programa Entra21 es...</td>\n",
       "      <td>8</td>\n",
       "    </tr>\n",
       "  </tbody>\n",
       "</table>\n",
       "</div>"
      ],
      "text/plain": [
       "     Carimbo_de_data_hora  AnswerNum2                         Answer  \\\n",
       "1728  2022-01-09 21:17:58           1  Ambev Tech, Capgemini, Warren   \n",
       "\n",
       "                                               Question  Questionid  \n",
       "1728  8) Das empresas âncoras do Programa Entra21 es...           8  "
      ]
     },
     "metadata": {},
     "output_type": "display_data"
    }
   ],
   "source": [
    "dfok1b=pd.DataFrame()\n",
    "display (dfok1)"
   ]
  },
  {
   "cell_type": "code",
   "execution_count": 186,
   "id": "893a0461",
   "metadata": {},
   "outputs": [
    {
     "name": "stdout",
     "output_type": "stream",
     "text": [
      "Mestre\n"
     ]
    }
   ],
   "source": [
    "\n",
    "def verifica(base8,empresa):\n",
    "    ret='None'\n",
    "    for a,b in base8.items():\n",
    "        if (a == empresa):\n",
    "            ret = b                        \n",
    "            \n",
    "    return ret\n",
    "\n",
    "        \n",
    "base8 = {\n",
    "'Senior Sistemas' : 'Empresa1',\n",
    "'Philips':'Empresa2',\n",
    "'Ailos' : 'Empresa3',\n",
    "'Capgemini' : 'Empresa4',\n",
    "'Ambev Tech' : 'Empresa5',\n",
    "'Warren' : 'Empresa6',\n",
    "'DataInfo' : 'Empresa7',\n",
    "'Farmácias App' : 'Empresa8',\n",
    "'Havan Labs' : 'Empresa9',\n",
    "'T-Systems' : 'Empresa10',\n",
    "'Unifique' : 'Empresa11',\n",
    "'Ambev Tech, Capgemini, Warren' : 'Mestre'\n",
    "}\n",
    "\n",
    "    \n",
    "if dfok1['Questionid'].values == 8: \n",
    "    novo_nome = verifica(base8,dfok1['Answer'].values)\n",
    "    print(novo_nome)\n",
    "    #display(dfok1['Questionid'].values)\n",
    "    #display(dfok1['Answer'].values)\n",
    "\n",
    "\n",
    "\n",
    "\n",
    "             "
   ]
  },
  {
   "cell_type": "code",
   "execution_count": 187,
   "id": "d7121ff2",
   "metadata": {},
   "outputs": [],
   "source": [
    "crb=[]\n",
    "qst=[]\n",
    "qid=[]\n",
    "ans=[]\n",
    "\n",
    "for index,row in dfok1.iterrows():            \n",
    "    for x in (list(str.split(row.Answer,sep=','))): \n",
    "        crb.append(row.Carimbo_de_data_hora)\n",
    "        qst.append(row.Question)\n",
    "        qid.append(row.Questionid)\n",
    "        ans.append(x)\n",
    "        \n",
    "dfok1b['Carimbo_de_data_hora'] = crb\n",
    "dfok1b['Question'] = qst\n",
    "dfok1b['Questionid'] = qid\n",
    "dfok1b['Answer'] = ans\n",
    "\n",
    "    \n",
    "        "
   ]
  },
  {
   "cell_type": "code",
   "execution_count": 188,
   "id": "3d9cd358",
   "metadata": {},
   "outputs": [
    {
     "data": {
      "text/plain": [
       "(3, 4)"
      ]
     },
     "execution_count": 188,
     "metadata": {},
     "output_type": "execute_result"
    }
   ],
   "source": [
    "dfok1b.shape"
   ]
  },
  {
   "cell_type": "code",
   "execution_count": 189,
   "id": "865d5d70",
   "metadata": {},
   "outputs": [
    {
     "data": {
      "text/html": [
       "<div>\n",
       "<style scoped>\n",
       "    .dataframe tbody tr th:only-of-type {\n",
       "        vertical-align: middle;\n",
       "    }\n",
       "\n",
       "    .dataframe tbody tr th {\n",
       "        vertical-align: top;\n",
       "    }\n",
       "\n",
       "    .dataframe thead th {\n",
       "        text-align: right;\n",
       "    }\n",
       "</style>\n",
       "<table border=\"1\" class=\"dataframe\">\n",
       "  <thead>\n",
       "    <tr style=\"text-align: right;\">\n",
       "      <th></th>\n",
       "      <th>Carimbo_de_data_hora</th>\n",
       "      <th>Question</th>\n",
       "      <th>Questionid</th>\n",
       "      <th>Answer</th>\n",
       "    </tr>\n",
       "  </thead>\n",
       "  <tbody>\n",
       "    <tr>\n",
       "      <th>0</th>\n",
       "      <td>2022-01-09 21:17:58</td>\n",
       "      <td>8) Das empresas âncoras do Programa Entra21 es...</td>\n",
       "      <td>8</td>\n",
       "      <td>Ambev Tech</td>\n",
       "    </tr>\n",
       "    <tr>\n",
       "      <th>1</th>\n",
       "      <td>2022-01-09 21:17:58</td>\n",
       "      <td>8) Das empresas âncoras do Programa Entra21 es...</td>\n",
       "      <td>8</td>\n",
       "      <td>Capgemini</td>\n",
       "    </tr>\n",
       "    <tr>\n",
       "      <th>2</th>\n",
       "      <td>2022-01-09 21:17:58</td>\n",
       "      <td>8) Das empresas âncoras do Programa Entra21 es...</td>\n",
       "      <td>8</td>\n",
       "      <td>Warren</td>\n",
       "    </tr>\n",
       "  </tbody>\n",
       "</table>\n",
       "</div>"
      ],
      "text/plain": [
       "  Carimbo_de_data_hora                                           Question  \\\n",
       "0  2022-01-09 21:17:58  8) Das empresas âncoras do Programa Entra21 es...   \n",
       "1  2022-01-09 21:17:58  8) Das empresas âncoras do Programa Entra21 es...   \n",
       "2  2022-01-09 21:17:58  8) Das empresas âncoras do Programa Entra21 es...   \n",
       "\n",
       "   Questionid      Answer  \n",
       "0           8  Ambev Tech  \n",
       "1           8   Capgemini  \n",
       "2           8      Warren  "
      ]
     },
     "metadata": {},
     "output_type": "display_data"
    }
   ],
   "source": [
    "\n",
    "display (dfok1b)"
   ]
  },
  {
   "cell_type": "code",
   "execution_count": 179,
   "id": "f8c05b32",
   "metadata": {},
   "outputs": [
    {
     "name": "stdout",
     "output_type": "stream",
     "text": [
      "[array(['Ambev Tech', ' Capgemini', ' Warren'], dtype=object)]\n",
      "None\n"
     ]
    },
    {
     "data": {
      "text/html": [
       "<div>\n",
       "<style scoped>\n",
       "    .dataframe tbody tr th:only-of-type {\n",
       "        vertical-align: middle;\n",
       "    }\n",
       "\n",
       "    .dataframe tbody tr th {\n",
       "        vertical-align: top;\n",
       "    }\n",
       "\n",
       "    .dataframe thead th {\n",
       "        text-align: right;\n",
       "    }\n",
       "</style>\n",
       "<table border=\"1\" class=\"dataframe\">\n",
       "  <thead>\n",
       "    <tr style=\"text-align: right;\">\n",
       "      <th></th>\n",
       "      <th>Carimbo_de_data_hora</th>\n",
       "      <th>Question</th>\n",
       "      <th>Questionid</th>\n",
       "      <th>Answer</th>\n",
       "    </tr>\n",
       "  </thead>\n",
       "  <tbody>\n",
       "    <tr>\n",
       "      <th>0</th>\n",
       "      <td>2022-01-09 21:17:58</td>\n",
       "      <td>8) Das empresas âncoras do Programa Entra21 es...</td>\n",
       "      <td>8</td>\n",
       "      <td>Ambev Tech</td>\n",
       "    </tr>\n",
       "    <tr>\n",
       "      <th>1</th>\n",
       "      <td>2022-01-09 21:17:58</td>\n",
       "      <td>8) Das empresas âncoras do Programa Entra21 es...</td>\n",
       "      <td>8</td>\n",
       "      <td>Capgemini</td>\n",
       "    </tr>\n",
       "    <tr>\n",
       "      <th>2</th>\n",
       "      <td>2022-01-09 21:17:58</td>\n",
       "      <td>8) Das empresas âncoras do Programa Entra21 es...</td>\n",
       "      <td>8</td>\n",
       "      <td>Warren</td>\n",
       "    </tr>\n",
       "  </tbody>\n",
       "</table>\n",
       "</div>"
      ],
      "text/plain": [
       "  Carimbo_de_data_hora                                           Question  \\\n",
       "0  2022-01-09 21:17:58  8) Das empresas âncoras do Programa Entra21 es...   \n",
       "1  2022-01-09 21:17:58  8) Das empresas âncoras do Programa Entra21 es...   \n",
       "2  2022-01-09 21:17:58  8) Das empresas âncoras do Programa Entra21 es...   \n",
       "\n",
       "   Questionid      Answer  \n",
       "0           8  Ambev Tech  \n",
       "1           8   Capgemini  \n",
       "2           8      Warren  "
      ]
     },
     "metadata": {},
     "output_type": "display_data"
    }
   ],
   "source": [
    "cria_lista1 = list()\n",
    "def verifica(base8,empresa):\n",
    "    ret='None'\n",
    "    for a,b in base8.items():\n",
    "        if (a == empresa):\n",
    "            ret = b                        \n",
    "            \n",
    "    return ret\n",
    "\n",
    "        \n",
    "base8 = {\n",
    "'Senior Sistemas' : 'Empresa1',\n",
    "'Philips':'Empresa2',\n",
    "'Ailos' : 'Empresa3',\n",
    "'Capgemini' : 'Empresa4',\n",
    "'Ambev Tech' : 'Empresa5',\n",
    "'Warren' : 'Empresa6',\n",
    "'DataInfo' : 'Empresa7',\n",
    "'Farmácias App' : 'Empresa8',\n",
    "'Havan Labs' : 'Empresa9',\n",
    "'T-Systems' : 'Empresa10',\n",
    "'Unifique' : 'Empresa11',\n",
    "'Ambev Tech, Capgemini, Warren' : 'Mestre'\n",
    "}\n",
    "\n",
    "cria_lista1.append(dfok1b['Answer'].values)\n",
    "cria_lista2 = []\n",
    "for i in cria_lista1:\n",
    "    cria_lista2.append(i)\n",
    "    print(cria_lista2)\n",
    "\n",
    "\n",
    "if dfok1['Questionid'].values == 8: \n",
    "    novo_nome = verifica(base8,cria_lista2)\n",
    "    print(novo_nome)\n",
    "    display(dfok1b)\n",
    "    "
   ]
  }
 ],
 "metadata": {
  "kernelspec": {
   "display_name": "Python 3.10.4 ('venv': venv)",
   "language": "python",
   "name": "python3"
  },
  "language_info": {
   "codemirror_mode": {
    "name": "ipython",
    "version": 3
   },
   "file_extension": ".py",
   "mimetype": "text/x-python",
   "name": "python",
   "nbconvert_exporter": "python",
   "pygments_lexer": "ipython3",
   "version": "3.10.4"
  },
  "vscode": {
   "interpreter": {
    "hash": "aa5e94df5d27fb515e4b794539e5601b47d1f8deadaa9bcfe2ae60293aef2462"
   }
  }
 },
 "nbformat": 4,
 "nbformat_minor": 5
}
