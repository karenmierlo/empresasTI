{
 "cells": [
  {
   "cell_type": "code",
   "execution_count": null,
   "id": "f25d07f2",
   "metadata": {},
   "outputs": [],
   "source": [
    "import pandas as pd"
   ]
  },
  {
   "cell_type": "markdown",
   "id": "ccb5d420",
   "metadata": {},
   "source": [
    "Importando planilha google docs "
   ]
  },
  {
   "cell_type": "code",
   "execution_count": null,
   "id": "d914b427",
   "metadata": {},
   "outputs": [],
   "source": [
    "url_or_file='https://docs.google.com/spreadsheets/d/e/2PACX-1vQrGR2RwQBQAbt3Mzu0UbgKMGSY1hxXtt8rV1fcLzrwjRy2KBDUaSOoT5EKt-j0t6cxZ0KIz-4O0ZVf/pub?gid=891049362&single=true&output=csv'\n",
    "\n",
    "\n"
   ]
  },
  {
   "cell_type": "markdown",
   "id": "7b64a73f",
   "metadata": {},
   "source": [
    "Criando Dataframe vazio onde recebera atravez do laço for, todas as perguntas com suas respostas das (14) colunas."
   ]
  },
  {
   "cell_type": "code",
   "execution_count": null,
   "id": "da0b49e4",
   "metadata": {},
   "outputs": [],
   "source": [
    "df=pd.DataFrame()\n",
    "df['Carimbo_de_data_hora']=''\n",
    "df['Answer']=''\n",
    "df['Question']=''\n",
    "df['Questionid']=''"
   ]
  },
  {
   "cell_type": "code",
   "execution_count": null,
   "id": "a66a98de",
   "metadata": {},
   "outputs": [],
   "source": [
    "# # aqui estamos limpando nomes de colunas que vinham com espaço e charcter / \n",
    "# df.columns = [c.replace(' ', '_') for c in dfok.columns]\n",
    "# df.columns = [c.replace('/', '_') for c in dfok.columns]"
   ]
  },
  {
   "cell_type": "markdown",
   "id": "10b4ed74",
   "metadata": {},
   "source": [
    "No laço for abaixo percorremos todas as colunas do CSV adicionando dm df_coluna_by_coluna"
   ]
  },
  {
   "cell_type": "code",
   "execution_count": null,
   "id": "2831a48f",
   "metadata": {},
   "outputs": [],
   "source": [
    "for i in range(1,14):\n",
    "    colunas=[0,i]\n",
    "    df_coluna_by_coluna = pd.read_csv(url_or_file, header=0,usecols=colunas)    \n",
    "    pergunta=df_coluna_by_coluna.columns[1]     \n",
    "    df_coluna_by_coluna = df_coluna_by_coluna.rename(columns={ pergunta : 'Answer'})    \n",
    "    df_coluna_by_coluna['Question']=pergunta\n",
    "    df_coluna_by_coluna['Questionid']=i        \n",
    "    \n",
    "    df = (pd.concat([df, df_coluna_by_coluna],ignore_index = True))\n",
    "    df['Carimbo_de_data_hora']= (pd.to_datetime(df['Carimbo_de_data_hora']))\n",
    "    df['Questionid']=(pd.to_numeric(df['Questionid']))\n",
    "\n",
    "print(len(df))\n",
    "\n",
    "\n",
    "#print(dfok[0:1100])\n",
    "# dfok1 = dfok[0:1085]\n",
    "# inicio=(8*216)\n",
    "# fim=(inicio+1)\n",
    "# dfok1 = dfok[inicio:fim]\n",
    "\n"
   ]
  },
  {
   "cell_type": "code",
   "execution_count": null,
   "id": "9ccd15f3",
   "metadata": {},
   "outputs": [],
   "source": [
    "\n",
    "display(df)"
   ]
  },
  {
   "cell_type": "markdown",
   "id": "f46762d2",
   "metadata": {},
   "source": [
    "Abaixo criamos uma codificação para os nomes de empresas e outros detalhes.\n",
    "questionid = 8\n",
    "questionid = 9"
   ]
  },
  {
   "cell_type": "code",
   "execution_count": null,
   "id": "7d7f46d5",
   "metadata": {},
   "outputs": [],
   "source": [
    "\n",
    "\n",
    "def verifica(base8,empresa):\n",
    "    ret='None'\n",
    "    for a,b in base8.items():\n",
    "        if (a == empresa):\n",
    "            ret = b                        \n",
    "            \n",
    "    return ret\n",
    "\n",
    "        \n",
    "base8 = {\n",
    "'Senior Sistemas' : 'Empresa1',\n",
    "'Philips':'Empresa2',\n",
    "'Ailos' : 'Empresa3',\n",
    "'Capgemini' : 'Empresa4',\n",
    "'Ambev Tech' : 'Empresa5',\n",
    "'Warren' : 'Empresa6',\n",
    "'DataInfo' : 'Empresa7',\n",
    "'Farmácias App' : 'Empresa8',\n",
    "'Havan Labs' : 'Empresa9',\n",
    "'T-Systems' : 'Empresa10',\n",
    "'Unifique' : 'Empresa11'\n",
    "}\n",
    "\n",
    "# base8 = {\n",
    "# 'Empresa1' : 'Senior Sistemas',\n",
    "# 'Empresa2':  'Philips',\n",
    "# 'Empresa3' : 'Ailos',\n",
    "# 'Empresa4' : 'Capgemini',\n",
    "# 'Empresa5' : 'Ambev Tech',\n",
    "# 'Empresa6' : 'Warren',\n",
    "# 'Empresa7' : 'DataInfo',\n",
    "# 'Empresa8' : 'Farmácias App',\n",
    "# 'Empresa9' : 'Havan Labs',\n",
    "# 'Empresa10' : 'T-Systems',\n",
    "# 'Empresa11' : 'Unifique'\n",
    "# }\n",
    "\n",
    "#Ailos, Ambev Tech, Capgemini,\n",
    "#DataInfo, Farmácias App, Havan Labs, \n",
    "#Philips, Senior Sistemas, \n",
    "#T-Systems, Unifique, Warren\n",
    "\n",
    "def verifica_b9(base9,empresa):\n",
    "    ret='None'\n",
    "    for a,b in base9.items():\n",
    "        if (a == empresa):\n",
    "            ret = b                        \n",
    "            \n",
    "    return ret\n",
    "\n",
    "base9 = {\n",
    "'Empresa1' : 'Empresa1',\n",
    "'Empresa2' : 'Empresa2',\n",
    "'Empresa3' : 'Empresa3',\n",
    "'Empresa4' : 'Empresa4',\n",
    "'Empresa5' : 'Empresa5',\n",
    "'Empresa6' : 'Empresa6',\n",
    "'Empresa7' : 'Empresa7',\n",
    "'Empresa8' : 'Empresa8',\n",
    "'Empresa9' : 'Empresa9',\n",
    "'Empresa10' : 'Empresa10',\n",
    "'Empresa11' : 'Empresa11'\n",
    "}\n",
    "    \n",
    "    \n"
   ]
  },
  {
   "cell_type": "code",
   "execution_count": null,
   "id": "2f103cc1",
   "metadata": {},
   "outputs": [],
   "source": [
    "#dataframe New Serializer\n",
    "dfns=pd.DataFrame()\n",
    "\n",
    "crb=[]\n",
    "qst=[]\n",
    "qid=[]\n",
    "ans=[]\n",
    "ans_code=[]\n",
    "\n",
    "for index,row in df.iterrows():            \n",
    "    for answerseparada in (list(str.split(row.Answer,sep=','))): \n",
    "        crb.append(row.Carimbo_de_data_hora)\n",
    "        qst.append(row.Question)\n",
    "        qid.append(row.Questionid)\n",
    "        ans.append(answerseparada)\n",
    "        if (row.Questionid == 8):\n",
    "            ans_code.append(verifica(base8,answerseparada))\n",
    "        elif (row.Questionid == 9):\n",
    "            ans_code.append(verifica_b9(base9,answerseparada))\n",
    "        else:\n",
    "            ans_code.append(answerseparada)        \n",
    "                \n",
    "        \n",
    "dfns['Carimbo_de_data_hora'] = crb\n",
    "dfns['Question'] = qst\n",
    "dfns['Questionid'] = qid\n",
    "dfns['Answer'] = ans\n",
    "dfns['AnswerCode'] = ans_code\n",
    "\n",
    "\n",
    "print(dfns.shape)\n"
   ]
  },
  {
   "cell_type": "code",
   "execution_count": null,
   "id": "0c367726",
   "metadata": {},
   "outputs": [],
   "source": [
    "display(dfns)"
   ]
  },
  {
   "cell_type": "code",
   "execution_count": null,
   "id": "6f638646",
   "metadata": {},
   "outputs": [],
   "source": [
    "import mysql.connector"
   ]
  },
  {
   "cell_type": "code",
   "execution_count": null,
   "id": "8dce25d2",
   "metadata": {},
   "outputs": [],
   "source": [
    "\n",
    "cnx = mysql.connector.connect(\n",
    "    host = '3.89.36.150',\n",
    "    user = 'e2122g3',\n",
    "    password = 'e2122g3@16@ago',\n",
    "    database = 'e2122g3'\n",
    "    )\n",
    "\n",
    "cur = cnx.cursor()\n",
    "\n",
    "cur.execute(\"\"\"\n",
    "    DROP TABLE IF EXISTS PERGUNTAS_TCC; \n",
    "\"\"\")\n",
    "\n",
    "cur.execute(\"\"\"    \n",
    "    CREATE TABLE PERGUNTAS_TCC(\n",
    "            PERGUNTAS_CARIMBO DATE NOT NULL,\n",
    "            PERGUNTAS_ID_RESPOSTA INTEGER,\n",
    "            PERGUNTAS_NOME TEXT NOT NULL,\n",
    "            PERGUNTAS_RESPOSTA TEXT NOT NULL\n",
    "    );\n",
    "\"\"\")\n",
    "\n"
   ]
  },
  {
   "cell_type": "code",
   "execution_count": null,
   "id": "8df84163",
   "metadata": {},
   "outputs": [],
   "source": [
    "\n"
   ]
  },
  {
   "cell_type": "code",
   "execution_count": null,
   "id": "dca5d483",
   "metadata": {},
   "outputs": [],
   "source": [
    "divisoes = int((len(dfns))/1000+1)\n",
    "\n",
    "contador=0\n",
    "print(divisoes)\n",
    "\n",
    "def insere_valores(inicio,fim):\n",
    "    print(inicio,fim)\n",
    "    values = []\n",
    "    for index,row in dfns[inicio:fim].iterrows():    \n",
    "        for xresp in (list(str.split(row.Answer,sep=','))):\n",
    "            CARIMBO = row.Carimbo_de_data_hora\n",
    "            IDRESPOSTA = row.Questionid\n",
    "            PERGUNTA = row.Question\n",
    "            RESPOSTA = xresp \n",
    "            contador = contador + 1\n",
    "            values.append((CARIMBO,IDRESPOSTA,PERGUNTA,RESPOSTA))           \n",
    "            print((inicio,fim,CARIMBO,IDRESPOSTA,PERGUNTA,RESPOSTA))\n",
    "\n",
    "    insert_values = \"\".join(str(values).strip('[]'))\n",
    "    sql=(f\"INSERT INTO PERGUNTAS_TCC (PERGUNTAS_CARIMBO,PERGUNTAS_ID_RESPOSTA,PERGUNTAS_NOME,PERGUNTAS_RESPOSTA) VALUES {insert_values}\")\n",
    "\n",
    "    \n",
    "    cur.execute(sql)\n",
    "    cnx.commit()\n",
    "\n",
    "\n",
    "\n",
    "    \n",
    "\n"
   ]
  },
  {
   "cell_type": "code",
   "execution_count": null,
   "id": "c4481837",
   "metadata": {},
   "outputs": [],
   "source": [
    "\n",
    "\n",
    "divisoes = int((len(dfns))/1000+1)\n",
    "\n",
    "print(divisoes)\n",
    "\n",
    "total = int(len(dfns))\n",
    "passo = int(len(dfns)/divisoes)\n",
    "saldo = total\n",
    "\n",
    "x, inicio, fim = 0, 0, 0\n",
    "lista = []\n",
    "\n",
    "while saldo > 0:   \n",
    "\n",
    "    fim = fim+passo\n",
    "    print(f'saldo: {saldo} passo: {passo}' )\n",
    "\n",
    "    if saldo < passo:\n",
    "        fim = inicio + (saldo-1)      \n",
    "        \n",
    "        # lista.append((inicio, inicio+saldo))\n",
    "    else:\n",
    "        fim = inicio + (passo -1)\n",
    "        # lista.append((inicio, fim))        \n",
    "\n",
    "    saldo = saldo-passo\n",
    "    if saldo < 10:\n",
    "        fim = fim + saldo \n",
    "        saldo = saldo - saldo \n",
    "    lista.append((inicio,fim))\n",
    "\n",
    "    \n",
    "    # inicio = inicio + passo +1\n",
    "    inicio = fim + 1 \n",
    "\n",
    "for x, y in lista:\n",
    "    print(f'*************: {x},{y} = {y-x}')\n",
    "    insere_valores(x, y)"
   ]
  },
  {
   "cell_type": "code",
   "execution_count": null,
   "id": "b14835fe",
   "metadata": {},
   "outputs": [],
   "source": [
    "\n",
    "cnx = mysql.connector.connect(\n",
    "    host = '3.89.36.150',\n",
    "    user = 'e2122g3',\n",
    "    password = 'e2122g3@16@ago',\n",
    "    database = 'e2122g3'\n",
    "    )\n",
    "cur = cnx.cursor()\n",
    "cur.execute(\"\"\"\n",
    "    SELECT COUNT(*) FROM PERGUNTAS_TCC; \n",
    "\"\"\")\n",
    "\n",
    "print(f'Contador:       {contador}')\n",
    "print(f'Contador Mysql: {cur.fetchone()} ')\n",
    "\n",
    "\n",
    "    "
   ]
  },
  {
   "cell_type": "code",
   "execution_count": null,
   "id": "4f1264ba",
   "metadata": {},
   "outputs": [],
   "source": []
  },
  {
   "cell_type": "code",
   "execution_count": null,
   "id": "b9883b3a",
   "metadata": {},
   "outputs": [],
   "source": []
  },
  {
   "cell_type": "code",
   "execution_count": null,
   "id": "8474333e",
   "metadata": {},
   "outputs": [],
   "source": []
  }
 ],
 "metadata": {
  "kernelspec": {
   "display_name": "Python 3.8.10 64-bit",
   "language": "python",
   "name": "python3"
  },
  "language_info": {
   "codemirror_mode": {
    "name": "ipython",
    "version": 3
   },
   "file_extension": ".py",
   "mimetype": "text/x-python",
   "name": "python",
   "nbconvert_exporter": "python",
   "pygments_lexer": "ipython3",
   "version": "3.8.10"
  },
  "vscode": {
   "interpreter": {
    "hash": "767d51c1340bd893661ea55ea3124f6de3c7a262a8b4abca0554b478b1e2ff90"
   }
  }
 },
 "nbformat": 4,
 "nbformat_minor": 5
}
