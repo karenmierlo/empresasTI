{
 "cells": [
  {
   "cell_type": "code",
   "execution_count": null,
   "id": "4130f901",
   "metadata": {},
   "outputs": [],
   "source": []
  },
  {
   "cell_type": "code",
   "execution_count": 19,
   "id": "3bf89476",
   "metadata": {},
   "outputs": [
    {
     "name": "stdout",
     "output_type": "stream",
     "text": [
      "Empresa2\n"
     ]
    }
   ],
   "source": [
    "def verifica(base,empresa):\n",
    "    ret='None'\n",
    "    for a,b in base.items():\n",
    "        if (a == empresa):\n",
    "            ret = b                        \n",
    "            \n",
    "    return ret\n",
    "\n",
    "        \n",
    "base8 = {\n",
    "'Senior Sistemas' : 'Empresa1',\n",
    "'Philips':'Empresa2',\n",
    "'Ailos' : 'Empresa3'\n",
    "}\n",
    "\n",
    "if empresa == 8: \n",
    "    novo_nome = verifica(base8,'Philips')\n",
    "    print(novo_nome)\n",
    "    \n",
    "    \n",
    "\n",
    "\n",
    "\n",
    "\n"
   ]
  },
  {
   "cell_type": "code",
   "execution_count": null,
   "id": "dc978f69",
   "metadata": {},
   "outputs": [],
   "source": []
  }
 ],
 "metadata": {
  "kernelspec": {
   "display_name": "Python 3 (ipykernel)",
   "language": "python",
   "name": "python3"
  },
  "language_info": {
   "codemirror_mode": {
    "name": "ipython",
    "version": 3
   },
   "file_extension": ".py",
   "mimetype": "text/x-python",
   "name": "python",
   "nbconvert_exporter": "python",
   "pygments_lexer": "ipython3",
   "version": "3.8.10"
  }
 },
 "nbformat": 4,
 "nbformat_minor": 5
}
